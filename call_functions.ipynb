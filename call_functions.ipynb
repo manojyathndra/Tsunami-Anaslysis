{
 "cells": [
  {
   "cell_type": "code",
   "execution_count": 5,
   "metadata": {
    "id": "ihrIb-S1wyA0"
   },
   "outputs": [],
   "source": [
    "import pandas as pd\n",
    "import seaborn as sns\n",
    "%matplotlib inline\n",
    "import matplotlib as mpl\n",
    "import matplotlib.pyplot as plt\n",
    "import numpy as np"
   ]
  },
  {
   "cell_type": "code",
   "execution_count": 6,
   "metadata": {
    "colab": {
     "base_uri": "https://localhost:8080/"
    },
    "id": "qeGcATN1w8u-",
    "outputId": "acc657e7-80ce-424f-b4cc-76109fd51afb"
   },
   "outputs": [],
   "source": [
    "TsunamiDF = pd.read_csv('/content/tsunami_dataset.csv')"
   ]
  },
  {
   "cell_type": "code",
   "execution_count": 8,
   "metadata": {
    "colab": {
     "base_uri": "https://localhost:8080/"
    },
    "id": "4yHjRyZ4xTFq",
    "outputId": "f39ea0d6-e650-4a7c-80ae-0313b85892db"
   },
   "outputs": [],
   "source": [
    "class Tsunami:\n",
    "    \n",
    "    def __init__(self,Tsunami):\n",
    "        self.TsunamiDF = TsunamiDF\n",
    "        \n",
    "    def show_data(self,TsunamiDF):\n",
    "        return TsunamiDF.head()\n",
    "    \n",
    "    def show_data_type(self,TsunamiDF):\n",
    "        return TsunamiDF.dtypes\n",
    "    \n",
    "    def drop_null_values(self,TsunamiDF):\n",
    "        df = TsunamiDF.dropna()\n",
    "        return df\n",
    "    \n",
    "    def plot_tsunami_country(self,TsunamiDF):\n",
    "        plt.figure(figsize=(25,4))\n",
    "        TsunamiDF.COUNTRY.value_counts()[0:10].plot(kind='bar')\n",
    "        plt.grid()\n",
    "        plt.show()\n",
    "        \n",
    "    # function to check the number of times tsunami happeneed based on country \n",
    "    def check_tsunami_country(self,TsunamiDF):\n",
    "        country_name = input(\"Enter country name: \")\n",
    "        num = TsunamiDF[\"COUNTRY\"].value_counts()[country_name]\n",
    "        print(\"There were {} tsunami happened in {}\".format(num, country_name))\n",
    "    # function show tsunami happened in which year and how many times\n",
    "    \n",
    "    def check_tsunami_year(self,TsunamiDF):\n",
    "        return TsunamiDF[\"YEAR\"].value_counts()\n",
    "    \n",
    "    def check_tsunami_year(self,TsunamiDF,year):\n",
    "        num = TsunamiDF[\"YEAR\"].value_counts()[year]\n",
    "        print(\"There were {} tsunami happened in {}\".format(num, year))\n",
    "        \n",
    "    def filter_df_by_year(self,TsunamiDF,year):\n",
    "        return TsunamiDF[TsunamiDF[\"YEAR\"] > year]\n",
    "    \n",
    "    def plot_tasunami_cause(self,TsunamiDF):\n",
    "        plt.figure(figsize=(25,4))\n",
    "        df.CAUSE.value_counts()[0:10].plot(kind='bar')\n",
    "        plt.grid()\n",
    "        plt.show()\n",
    "    # slicing data of a particular column value\n",
    "    \n",
    "    def filter_tsunami_country(self,TsunamiDF,tsunami_num):\n",
    "        return TsunamiDF[\"COUNTRY\"].value_counts() > tsunami_num\n",
    "    \n",
    "    def show_column_names(self,TsunamiDF):\n",
    "        return TsunamiDF.columns\n",
    "    \n",
    "    def check_null_values(self,TsunamiDF):\n",
    "        return TsunamiDF.info()\n",
    "    \n",
    "    def check_duplicates(self,TsunamiDF):\n",
    "        boolean = TsunamiDF.duplicated().any() \n",
    "        return boolean\n",
    "    \n",
    "    def plot_total_death(self,TsunamiDF):\n",
    "        plt.figure(figsize=(25,4))\n",
    "        TsunamiDF.DEATHS_TOTAL_DESCRIPTION.value_counts()[0:10].plot(kind='bar')\n",
    "        plt.grid()\n",
    "        plt.show()\n",
    "        \n",
    "    def check_outlier_intensity(self,TsunamiDF):\n",
    "        TsunamiDF[\"TS_INTENSITY\"].plot.box()\n",
    "        \n",
    "    def check_outlier_hist(self,TsunamiDF):\n",
    "        TsunamiDF['EQ_MAGNITUDE'].plot.hist()\n",
    "        \n",
    "    def show_pair_plot(self,TsunamiDF):\n",
    "        sns.pairplot(TsunamiDF)\n",
    "        plt.show()\n",
    "        \n",
    "    def show_correlation(self,TsunamiDF):\n",
    "        TsunamiDF.corr()\n",
    "        \n",
    "    def show_heat_map(self,TsunamiDF):\n",
    "        fig, ax = plt.subplots(figsize=(10,10))\n",
    "        sns.heatmap(TsunamiDF.corr(), annot=True, ax=ax)\n",
    "        plt.show()\n",
    "        \n",
    "    def show_scatter_plot(self,TsunamiDF):\n",
    "        plt.figure(figsize=[10,10])\n",
    "        plt.scatter(TsunamiDF['EQ_MAGNITUDE'], TsunamiDF['COUNTRY'], marker = '>')\n",
    "        \n",
    "    def filter_correlation(self,TsunamiDF):\n",
    "        corr = TsunamiDF.corr()\n",
    "        corr_greater_than_20 = corr[corr>=.20]\n",
    "        return corr_greater_than_20\n",
    "    \n",
    "    def filter_heat_map(self,TsunamiDF):\n",
    "        corr = TsunamiDF.corr()\n",
    "        corr_greater_than_20 = corr[corr>=.20]\n",
    "        corr_greater_than_20\n",
    "        fig, ax = plt.subplots(figsize=(10,10))\n",
    "        sns.heatmap(corr_greater_than_20, annot=True, ax=ax)\n",
    "        plt.show()\n",
    "        \n",
    "    def plot_country_damage(self,TsunamiDF):\n",
    "        plt.figure(figsize=[10,10])\n",
    "        plt.scatter(TsunamiDF['HOUSES_TOTAL_DESCRIPTION'], TsunamiDF['COUNTRY'])"
   ]
  },
  {
   "cell_type": "code",
   "execution_count": null,
   "metadata": {},
   "outputs": [],
   "source": []
  }
 ],
 "metadata": {
  "colab": {
   "collapsed_sections": [],
   "name": "call_functions.ipynb",
   "provenance": []
  },
  "kernelspec": {
   "display_name": "Python 3 (ipykernel)",
   "language": "python",
   "name": "python3"
  },
  "language_info": {
   "codemirror_mode": {
    "name": "ipython",
    "version": 3
   },
   "file_extension": ".py",
   "mimetype": "text/x-python",
   "name": "python",
   "nbconvert_exporter": "python",
   "pygments_lexer": "ipython3",
   "version": "3.9.7"
  }
 },
 "nbformat": 4,
 "nbformat_minor": 1
}
